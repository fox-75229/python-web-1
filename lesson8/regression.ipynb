{
 "cells": [
  {
   "cell_type": "code",
   "execution_count": 55,
   "id": "2c8d53ee",
   "metadata": {},
   "outputs": [],
   "source": [
    "from sklearn.datasets import fetch_california_housing\n",
    "from sklearn.linear_model import LinearRegression\n",
    "from sklearn.model_selection import train_test_split"
   ]
  },
  {
   "cell_type": "code",
   "execution_count": 56,
   "id": "59779eeb",
   "metadata": {},
   "outputs": [
    {
     "name": "stdout",
     "output_type": "stream",
     "text": [
      "(20640, 8)\n",
      "2\n"
     ]
    }
   ],
   "source": [
    "# 載入加州房價資料集\n",
    "housing = fetch_california_housing()\n",
    "print(housing['data'].shape)\n",
    "print(housing['data'].ndim)\n",
    "#housing['target']"
   ]
  },
  {
   "cell_type": "code",
   "execution_count": 61,
   "id": "2c7c8089",
   "metadata": {},
   "outputs": [
    {
     "ename": "ModuleNotFoundError",
     "evalue": "No module named 'pandas'",
     "output_type": "error",
     "traceback": [
      "\u001b[31m---------------------------------------------------------------------------\u001b[39m",
      "\u001b[31mModuleNotFoundError\u001b[39m                       Traceback (most recent call last)",
      "\u001b[36mCell\u001b[39m\u001b[36m \u001b[39m\u001b[32mIn[61]\u001b[39m\u001b[32m, line 1\u001b[39m\n\u001b[32m----> \u001b[39m\u001b[32m1\u001b[39m \u001b[38;5;28;01mimport\u001b[39;00m\u001b[38;5;250m \u001b[39m\u001b[34;01mpandas\u001b[39;00m\u001b[38;5;250m \u001b[39m\u001b[38;5;28;01mas\u001b[39;00m\u001b[38;5;250m \u001b[39m\u001b[34;01mpd\u001b[39;00m\n\u001b[32m      2\u001b[39m display(pd.DataFrame(housing[\u001b[33m'\u001b[39m\u001b[33mdata\u001b[39m\u001b[33m'\u001b[39m][:\u001b[32m200\u001b[39m]))\n\u001b[32m      3\u001b[39m display(pd.Series(housing[\u001b[33m'\u001b[39m\u001b[33mtarget\u001b[39m\u001b[33m'\u001b[39m][:\u001b[32m200\u001b[39m]))\n",
      "\u001b[31mModuleNotFoundError\u001b[39m: No module named 'pandas'"
     ]
    }
   ],
   "source": [
    "import pandas as pd\n",
    "display(pd.DataFrame(housing['data'][:200]))\n",
    "display(pd.Series(housing['target'][:200]))"
   ]
  },
  {
   "cell_type": "code",
   "execution_count": 58,
   "id": "b843150d",
   "metadata": {},
   "outputs": [
    {
     "data": {
      "text/plain": [
       "array([[   8.3252    ,   41.        ,    6.98412698, ...,    2.55555556,\n",
       "          37.88      , -122.23      ],\n",
       "       [   8.3014    ,   21.        ,    6.23813708, ...,    2.10984183,\n",
       "          37.86      , -122.22      ],\n",
       "       [   7.2574    ,   52.        ,    8.28813559, ...,    2.80225989,\n",
       "          37.85      , -122.24      ],\n",
       "       ...,\n",
       "       [   2.59      ,   52.        ,    4.38996139, ...,    3.34362934,\n",
       "          37.77      , -122.22      ],\n",
       "       [   2.57      ,   52.        ,    4.20218579, ...,    3.3442623 ,\n",
       "          37.77      , -122.23      ],\n",
       "       [   2.6429    ,   52.        ,    3.74603175, ...,    3.29365079,\n",
       "          37.78      , -122.23      ]], shape=(200, 8))"
      ]
     },
     "execution_count": 58,
     "metadata": {},
     "output_type": "execute_result"
    }
   ],
   "source": [
    "housing['data'][:200]"
   ]
  }
 ],
 "metadata": {
  "kernelspec": {
   "display_name": "python-web-1",
   "language": "python",
   "name": "python3"
  },
  "language_info": {
   "codemirror_mode": {
    "name": "ipython",
    "version": 3
   },
   "file_extension": ".py",
   "mimetype": "text/x-python",
   "name": "python",
   "nbconvert_exporter": "python",
   "pygments_lexer": "ipython3",
   "version": "3.13.5"
  }
 },
 "nbformat": 4,
 "nbformat_minor": 5
}
